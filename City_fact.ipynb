{
 "cells": [
  {
   "cell_type": "code",
   "execution_count": null,
   "metadata": {},
   "outputs": [
    {
     "data": {
      "text/plain": [
       "'New York most commonly refers to:New York (state), a state in the northeastern United States\\nNew York City, the most populous city in the United States, located in the state of New York'"
      ]
     },
     "execution_count": 14,
     "metadata": {},
     "output_type": "execute_result"
    }
   ],
   "source": [
    "import nltk\n",
    "import requests\n",
    "import flask\n",
    "\n",
    "\n",
    "def get_city_name(city_name):\n",
    "     \n",
    "     url = f\"https://en.wikipedia.org/api/rest_v1/page/summary/{city_name}\"\n",
    "     response=requests.get(url)\n",
    "     if response.status_code==200:\n",
    "          data=response.json()\n",
    "          return data['extract']\n",
    "     return \"Sorry, The city name is invalid or there are no facts in the database\"\n",
    "get_city_name('New York')\n",
    "     \n",
    "\n",
    "\n"
   ]
  },
  {
   "cell_type": "markdown",
   "metadata": {},
   "source": []
  }
 ],
 "metadata": {
  "kernelspec": {
   "display_name": "Python 3",
   "language": "python",
   "name": "python3"
  },
  "language_info": {
   "codemirror_mode": {
    "name": "ipython",
    "version": 3
   },
   "file_extension": ".py",
   "mimetype": "text/x-python",
   "name": "python",
   "nbconvert_exporter": "python",
   "pygments_lexer": "ipython3",
   "version": "3.11.3"
  }
 },
 "nbformat": 4,
 "nbformat_minor": 2
}
